{
  "cells": [
    {
      "cell_type": "code",
      "execution_count": 20,
      "metadata": {
        "colab": {
          "base_uri": "https://localhost:8080/"
        },
        "id": "-H_bwcmsrvhj",
        "outputId": "a0bc180e-d7c0-41a5-9511-cc85e07c1a81"
      },
      "outputs": [
        {
          "name": "stdout",
          "output_type": "stream",
          "text": [
            "2\n",
            "-1\n"
          ]
        }
      ],
      "source": [
        "from bisect import bisect_left\n",
        "\n",
        "#Complexidade: O(log n)\n",
        "#Busca um valor dentro de uma lista ordenada com complexidade O(log n).\n",
        "#Retorna a posição do valor encontrado na lista ou -1 caso não encontre.\n",
        "#lista: lista de valores (deve estar previamente ordenada)\n",
        "#valor: valor que será buscado na lista\n",
        "def busca_binaria(lista, valor):\n",
        "    i = bisect_left(lista, valor)\n",
        "    if i != len(lista) and lista[i] == valor:\n",
        "        return i\n",
        "    return -1\n",
        "\n",
        "#Exemplos de uso\n",
        "print(busca_binaria([10, 20, 30, 40, 50], 30)) #Encontra 30 na posição 2\n",
        "print(busca_binaria([10, 20, 30, 40, 50], 7)) #Não encontra o 7, por isso retorna -1"
      ]
    },
    {
      "cell_type": "markdown",
      "metadata": {
        "id": "LDNYYvkmr9vv"
      },
      "source": [
        "# Exercício 1: Soma-Zero\n",
        "\n",
        "Faça um algoritmo que recebe uma lista de números **distintos** $A$ e retorna o número de pares de elementos cuja soma é zero.\n",
        "\n",
        "Exemplos:\n",
        "\n",
        "| Lista de números de Entrada $A$               | Pares que somam zero    | Saída Esperada |\n",
        "| ------------------- | ---------------------- | ------------- |\n",
        "| $1, 5, 6, -1, -6$   | $(1,-1) , (6,-6)$  |  $2$  |\n",
        "| $10, 3, 5, 2,-3,7$  | $(3,-3)$  |  $1$  |\n",
        "| $1,5,46,3,90$      |  Nenhum |  $0$  |"
      ]
    },
    {
      "cell_type": "code",
      "execution_count": 21,
      "metadata": {},
      "outputs": [
        {
          "name": "stdout",
          "output_type": "stream",
          "text": [
            "3\n"
          ]
        }
      ],
      "source": [
        "#Soma-Zero - Versão 1 com complexidade O(n^2)\n",
        "def soma_zero_v1(A):\n",
        "   #Implemente aqui\n",
        "   n = len(A)\n",
        "   count = 0\n",
        "   for i in range(n):\n",
        "      for j in range(i + 1, n):\n",
        "         if A[i] + A[j] == 0:\n",
        "            count += 1  \n",
        "   return count\n",
        "\n",
        "#Testes\n",
        "print(soma_zero_v1([1,5,-5,-1,-6, 6]))"
      ]
    },
    {
      "cell_type": "code",
      "execution_count": 22,
      "metadata": {
        "colab": {
          "base_uri": "https://localhost:8080/"
        },
        "id": "m3fZURMUstyF",
        "outputId": "8e991cbd-69cd-4309-c9de-442dcace80af"
      },
      "outputs": [
        {
          "name": "stdout",
          "output_type": "stream",
          "text": [
            "3\n"
          ]
        }
      ],
      "source": [
        "from bisect import bisect_left\n",
        "\n",
        "#Complexidade: O(log n)\n",
        "#Busca um valor dentro de uma lista ordenada com complexidade O(log n).\n",
        "#Retorna a posição do valor encontrado na lista ou -1 caso não encontre.\n",
        "#lista: lista de valores (deve estar previamente ordenada)\n",
        "#valor: valor que será buscado na lista\n",
        "def busca_binaria(lista, valor):\n",
        "    i = bisect_left(lista, valor)\n",
        "    if i != len(lista) and lista[i] == valor:\n",
        "        return i\n",
        "    return -1\n",
        "\n",
        "#Exemplos de uso\n",
        "#print(busca_binaria([10, 20, 30, 40, 50], 30)) #Encontra 30 na posição 2\n",
        "#print(busca_binaria([10, 20, 30, 40, 50], 7)) #Não encontra o 7, por isso retorna -1\n",
        "\n",
        "#Soma-Zero - Versão 2 com complexidade O(nlog n)\n",
        "def soma_zero_v2(A):\n",
        "   #Implemente aqui\n",
        "   n = len(A)\n",
        "   count = 0\n",
        "   A.sort()  \n",
        "   for i in range(n):  \n",
        "      if (busca_binaria(A, -A[i]) != -1) and A[i] > 0:\n",
        "         count += 1  \n",
        "   return count\n",
        "\n",
        "#Testes\n",
        "print(soma_zero_v2([1,5,6,-1,-6,-5]))"
      ]
    },
    {
      "cell_type": "markdown",
      "metadata": {
        "id": "NJODfcFys53V"
      },
      "source": [
        "# Exercício 2: Médias do Cartão de Crédito\n",
        "\n",
        "  Dado uma lista de números $A$ de tamanho $n$ onde cada elemento corresponde ao valor da sua fatura mensal do cartão de crédito, você gostaria de analisar se o seu gasto médio aumentou ou diminiu ao longo dos meses. Para tal, você precisa calcular uma lista $M$ de médias, onde $M[i]$ é definido pela equação abaixo:\n",
        " $$\n",
        " M[i] = \\frac{\\sum_{j=1}^i A[j]}{i}\n",
        " $$  \n",
        "\n",
        "Exemplo:\n",
        "\n",
        "- Para uma entrada $A = \\{20, 10, 200, 40, 8\\}$\n",
        "- A saída esperada é $M = \\{20, 15, 76.66, 67.5, 55.6\\}$\n"
      ]
    },
    {
      "cell_type": "code",
      "execution_count": 23,
      "metadata": {
        "colab": {
          "base_uri": "https://localhost:8080/"
        },
        "id": "ll_VCVemtgxu",
        "outputId": "903a618e-103e-4034-c6fe-af02bc2d4a7a"
      },
      "outputs": [
        {
          "name": "stdout",
          "output_type": "stream",
          "text": [
            "[20.0, 15.0, 76.67, 67.5, 55.6]\n"
          ]
        }
      ],
      "source": [
        "#Médias do cartão de Crédito - Versão 1 com complexidade O(nˆ2)\n",
        "def medias_cartao_credito_v1(A):\n",
        "   M = []\n",
        "   for i in range(len(A)):\n",
        "      soma = 0\n",
        "      for j in range(i + 1):    \n",
        "         soma += A[j]\n",
        "      media = soma / (i + 1)\n",
        "      M.append(round(media, 2))  \n",
        "   return M\n",
        "\n",
        "#Teste\n",
        "print(medias_cartao_credito_v1([20,10,200,40,8]))"
      ]
    },
    {
      "cell_type": "code",
      "execution_count": 24,
      "metadata": {
        "colab": {
          "base_uri": "https://localhost:8080/"
        },
        "id": "UtEuCKIitnxH",
        "outputId": "2296ef55-044b-403c-db2d-5a4eb4380319"
      },
      "outputs": [
        {
          "name": "stdout",
          "output_type": "stream",
          "text": [
            "[20.0, 15.0, 76.67, 67.5, 55.6]\n"
          ]
        }
      ],
      "source": [
        "#Médias do cartão de Crédito - Versão 2 com complexidade O(n)\n",
        "def medias_cartao_credito_v2(A):\n",
        "   #Implemente aqui\n",
        "   M = []\n",
        "   soma = 0\n",
        "   for i in range(len(A)):\n",
        "      soma += A[i]\n",
        "      media = soma / (i + 1)\n",
        "      M.append(round(media, 2)) \n",
        "   return M\n",
        "\n",
        "#Teste\n",
        "print(medias_cartao_credito_v2([20,10,200,40,8]))"
      ]
    },
    {
      "cell_type": "markdown",
      "metadata": {
        "id": "Yd1RsP6ft4I0"
      },
      "source": [
        "# Exercício 3: Elemento comum em 3 listas\n",
        "\n",
        "Considere que o seu algoritmo recebe como entrada 3 listas $A$, $B$ e $C$ com o mesmo tamanho $n$ e apenas com números inteiros. Implemente um programa que retorna 1 se existir um número idêntico nas três listas. Caso contrário, retorne 0.\n",
        "\n",
        "Exemplos:\n",
        "\n",
        "| Lista de Entrada $A$  | Lista de Entrada $B$ | Lista de Entrada $C$   | Saída Esperada |\n",
        "| ------------------- | ---------------------- |---------------------- | ------------- |\n",
        "| 1, **5**, 6, -1, -6   | 10, 3, 4, **5**, 6  |  3, 2, **5**, 1, 9  | 1  |\n",
        "| 0 1 2 3 4  | 5 6 7 8 9 |  10 11 12 13 14  | 0 |\n",
        "| 6 5 5 5 | 9 7 7 7 | 7 7 8 8  | 0 |\n",
        "| **3 3** 4 | **3 3** 5 | 6 **3 3**  | 1 |\n",
        "\n"
      ]
    },
    {
      "cell_type": "code",
      "execution_count": null,
      "metadata": {
        "colab": {
          "base_uri": "https://localhost:8080/"
        },
        "id": "_EbCJTxkuqYC",
        "outputId": "24eb7d92-1c40-4584-d522-3d0486645fb9"
      },
      "outputs": [
        {
          "name": "stdout",
          "output_type": "stream",
          "text": [
            "1\n"
          ]
        }
      ],
      "source": [
        "#Elemento comum em 3 listas - Versão 1 com complexidade O(n^3)\n",
        "def elemento_comum_v1(A,B,C):\n",
        "   #Implemente aqui\n",
        "   for a in A:\n",
        "      for b in B:\n",
        "         for c in C:\n",
        "            if a == b and b == c:\n",
        "               return 1\n",
        "   return 0\n",
        "\n",
        "#Teste\n",
        "print(elemento_comum_v1([1, 5, 6, -1, -6],[1, 10, 3, 4, 5, 6],\t[3, 2, 5, 1, 9]))"
      ]
    },
    {
      "cell_type": "code",
      "execution_count": 30,
      "metadata": {
        "colab": {
          "base_uri": "https://localhost:8080/"
        },
        "id": "l_BbDP6Vuw6f",
        "outputId": "ddfe74e7-2c43-4d62-c642-2da9da745b36"
      },
      "outputs": [
        {
          "name": "stdout",
          "output_type": "stream",
          "text": [
            "1\n"
          ]
        }
      ],
      "source": [
        "from bisect import bisect_left\n",
        "\n",
        "#Complexidade: O(log n)\n",
        "#Busca um valor dentro de uma lista ordenada com complexidade O(log n).\n",
        "#Retorna a posição do valor encontrado na lista ou -1 caso não encontre.\n",
        "#lista: lista de valores (deve estar previamente ordenada)\n",
        "#valor: valor que será buscado na lista\n",
        "def busca_binaria(lista, valor):\n",
        "    i = bisect_left(lista, valor)\n",
        "    if i != len(lista) and lista[i] == valor:\n",
        "        return i\n",
        "    return -1\n",
        "\n",
        "#Exemplos de uso\n",
        "#print(busca_binaria([10, 20, 30, 40, 50], 30)) #Encontra 30 na posição 2\n",
        "#print(busca_binaria([10, 20, 30, 40, 50], 7)) #Não encontra o 7, por isso retorna -1\n",
        "\n",
        "#Elemento comum em 3 listas - Versão 2 com complexidade O(nlogn)\n",
        "def elemento_comum_v2(A,B,C):\n",
        "   #Implemente aqui\n",
        "   B.sort()\n",
        "   C.sort()\n",
        "   \n",
        "   for a in A:\n",
        "      if busca_binaria(B, a) != -1 and busca_binaria(C, a) != -1:\n",
        "         return 1\n",
        "   return 0\n",
        "\n",
        "#Teste\n",
        "print(elemento_comum_v2([1, 5, 6, -1, -6],[10, 3, 4, 5, 6],\t[3, 2, 5, 1, 9]))\n"
      ]
    },
    {
      "cell_type": "markdown",
      "metadata": {
        "id": "m3FhIB6iu85_"
      },
      "source": [
        "# Exercício 4: Problema Extra\n",
        "\n",
        "Considere um problema que recebe como entrada uma matriz quadrada $M_{n \\times n}$ preenchida com números inteiros naturais.\n",
        "O objetivo do problema é contar o número de zeros da matriz. Temos ainda as seguintes informações sobre a entrada:\n",
        "\n",
        "\n",
        "   - As linhas e colunas da matriz $M$ já estão com os elementos ordenados de modo ascendente.\n",
        "   - Os elementos de cada linha são todos distintos, exceto o zero que pode ser repetido.\n",
        "   -  O primeiro número diferente de zero em cada linha, é o mesmo em todas as linhas.  \n",
        "   - Todas as linhas possuem ao menos um número diferente de zero.  \n",
        "\n",
        "\n",
        "![image.png](data:image/png;base64,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)\n",
        "\n",
        "Implemente um algoritmo para resolver esse problema."
      ]
    },
    {
      "cell_type": "code",
      "execution_count": 75,
      "metadata": {
        "id": "20zkzD5uv5Qk"
      },
      "outputs": [],
      "source": [
        "#Versão 1: O(n^2)"
      ]
    },
    {
      "cell_type": "code",
      "execution_count": 76,
      "metadata": {
        "id": "BKM6Lj-OwFj1"
      },
      "outputs": [],
      "source": [
        "#Versão 2: Otimizada"
      ]
    }
  ],
  "metadata": {
    "colab": {
      "provenance": []
    },
    "kernelspec": {
      "display_name": "Python 3",
      "name": "python3"
    },
    "language_info": {
      "codemirror_mode": {
        "name": "ipython",
        "version": 3
      },
      "file_extension": ".py",
      "mimetype": "text/x-python",
      "name": "python",
      "nbconvert_exporter": "python",
      "pygments_lexer": "ipython3",
      "version": "3.10.4"
    }
  },
  "nbformat": 4,
  "nbformat_minor": 0
}
